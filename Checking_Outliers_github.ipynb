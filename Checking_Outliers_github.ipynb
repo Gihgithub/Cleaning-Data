{
  "cells": [
    {
      "cell_type": "markdown",
      "id": "0c5fdcbf",
      "metadata": {
        "id": "0c5fdcbf"
      },
      "source": [
        "# Outlier Detection"
      ]
    },
    {
      "cell_type": "code",
      "execution_count": null,
      "id": "60c30a3d",
      "metadata": {
        "id": "60c30a3d"
      },
      "outputs": [],
      "source": [
        "import pandas as pd\n",
        "import numpy as np"
      ]
    },
    {
      "cell_type": "markdown",
      "id": "26d7b105",
      "metadata": {
        "id": "26d7b105"
      },
      "source": [
        "# 1. Z-SCORE METHOD"
      ]
    },
    {
      "cell_type": "markdown",
      "id": "d8aee890",
      "metadata": {
        "id": "d8aee890"
      },
      "source": [
        "Using Z score method,we can find out how many standard deviations value away from the mean\n",
        "If the z score of a data point is more than 3 (because it cover 99.7% of area), it indicates that the data value is quite different from the other values. It is taken as outliers."
      ]
    },
    {
      "cell_type": "code",
      "execution_count": null,
      "id": "5107333b",
      "metadata": {
        "scrolled": true,
        "id": "5107333b",
        "outputId": "00c9d03d-d73f-41c7-e371-3adc64ec1099"
      },
      "outputs": [
        {
          "data": {
            "text/html": [
              "<div>\n",
              "<style scoped>\n",
              "    .dataframe tbody tr th:only-of-type {\n",
              "        vertical-align: middle;\n",
              "    }\n",
              "\n",
              "    .dataframe tbody tr th {\n",
              "        vertical-align: top;\n",
              "    }\n",
              "\n",
              "    .dataframe thead th {\n",
              "        text-align: right;\n",
              "    }\n",
              "</style>\n",
              "<table border=\"1\" class=\"dataframe\">\n",
              "  <thead>\n",
              "    <tr style=\"text-align: right;\">\n",
              "      <th></th>\n",
              "      <th>Market</th>\n",
              "      <th>Parent_Advertiser</th>\n",
              "      <th>Metric</th>\n",
              "      <th>Jan</th>\n",
              "      <th>Feb</th>\n",
              "      <th>Mar</th>\n",
              "      <th>Apr</th>\n",
              "      <th>May</th>\n",
              "      <th>Jun</th>\n",
              "      <th>Jul</th>\n",
              "      <th>Aug</th>\n",
              "      <th>Sep</th>\n",
              "      <th>Oct</th>\n",
              "      <th>Nov</th>\n",
              "      <th>Dec</th>\n",
              "      <th>Qtr Total</th>\n",
              "    </tr>\n",
              "  </thead>\n",
              "  <tbody>\n",
              "    <tr>\n",
              "      <th>0</th>\n",
              "      <td>BALTIMORE</td>\n",
              "      <td>2ND SWING GOLF</td>\n",
              "      <td>CY OTB</td>\n",
              "      <td>490.0</td>\n",
              "      <td>2930.00</td>\n",
              "      <td>2910.00</td>\n",
              "      <td>3255.00</td>\n",
              "      <td>2555.0</td>\n",
              "      <td>2685.00</td>\n",
              "      <td>0.0</td>\n",
              "      <td>300.00</td>\n",
              "      <td>0.0</td>\n",
              "      <td>0.0</td>\n",
              "      <td>NaN</td>\n",
              "      <td>NaN</td>\n",
              "      <td>15125.00</td>\n",
              "    </tr>\n",
              "    <tr>\n",
              "      <th>1</th>\n",
              "      <td>BALTIMORE</td>\n",
              "      <td>2ND SWING GOLF</td>\n",
              "      <td>PY Pace</td>\n",
              "      <td>1625.0</td>\n",
              "      <td>2500.00</td>\n",
              "      <td>1875.00</td>\n",
              "      <td>2680.00</td>\n",
              "      <td>4245.0</td>\n",
              "      <td>325.00</td>\n",
              "      <td>2670.0</td>\n",
              "      <td>240.00</td>\n",
              "      <td>1050.0</td>\n",
              "      <td>450.0</td>\n",
              "      <td>NaN</td>\n",
              "      <td>NaN</td>\n",
              "      <td>17660.00</td>\n",
              "    </tr>\n",
              "    <tr>\n",
              "      <th>2</th>\n",
              "      <td>BALTIMORE</td>\n",
              "      <td>2ND SWING GOLF</td>\n",
              "      <td>% to PY Pace</td>\n",
              "      <td>0.3</td>\n",
              "      <td>1.17</td>\n",
              "      <td>1.55</td>\n",
              "      <td>1.22</td>\n",
              "      <td>0.6</td>\n",
              "      <td>8.26</td>\n",
              "      <td>0.0</td>\n",
              "      <td>1.25</td>\n",
              "      <td>0.0</td>\n",
              "      <td>0.0</td>\n",
              "      <td>NaN</td>\n",
              "      <td>NaN</td>\n",
              "      <td>0.86</td>\n",
              "    </tr>\n",
              "    <tr>\n",
              "      <th>3</th>\n",
              "      <td>BALTIMORE</td>\n",
              "      <td>2ND SWING GOLF</td>\n",
              "      <td>PY Final</td>\n",
              "      <td>1625.0</td>\n",
              "      <td>2500.00</td>\n",
              "      <td>1875.00</td>\n",
              "      <td>2680.00</td>\n",
              "      <td>4245.0</td>\n",
              "      <td>325.00</td>\n",
              "      <td>2670.0</td>\n",
              "      <td>240.00</td>\n",
              "      <td>1050.0</td>\n",
              "      <td>450.0</td>\n",
              "      <td>NaN</td>\n",
              "      <td>NaN</td>\n",
              "      <td>17660.00</td>\n",
              "    </tr>\n",
              "    <tr>\n",
              "      <th>4</th>\n",
              "      <td>BALTIMORE</td>\n",
              "      <td>2ND SWING GOLF</td>\n",
              "      <td>% to PY Final</td>\n",
              "      <td>0.3</td>\n",
              "      <td>1.17</td>\n",
              "      <td>1.55</td>\n",
              "      <td>1.22</td>\n",
              "      <td>0.6</td>\n",
              "      <td>8.26</td>\n",
              "      <td>0.0</td>\n",
              "      <td>1.25</td>\n",
              "      <td>0.0</td>\n",
              "      <td>0.0</td>\n",
              "      <td>NaN</td>\n",
              "      <td>NaN</td>\n",
              "      <td>0.86</td>\n",
              "    </tr>\n",
              "  </tbody>\n",
              "</table>\n",
              "</div>"
            ],
            "text/plain": [
              "      Market Parent_Advertiser         Metric     Jan      Feb      Mar  \\\n",
              "0  BALTIMORE    2ND SWING GOLF         CY OTB   490.0  2930.00  2910.00   \n",
              "1  BALTIMORE    2ND SWING GOLF        PY Pace  1625.0  2500.00  1875.00   \n",
              "2  BALTIMORE    2ND SWING GOLF   % to PY Pace     0.3     1.17     1.55   \n",
              "3  BALTIMORE    2ND SWING GOLF       PY Final  1625.0  2500.00  1875.00   \n",
              "4  BALTIMORE    2ND SWING GOLF  % to PY Final     0.3     1.17     1.55   \n",
              "\n",
              "       Apr     May      Jun     Jul     Aug     Sep    Oct  Nov  Dec  \\\n",
              "0  3255.00  2555.0  2685.00     0.0  300.00     0.0    0.0  NaN  NaN   \n",
              "1  2680.00  4245.0   325.00  2670.0  240.00  1050.0  450.0  NaN  NaN   \n",
              "2     1.22     0.6     8.26     0.0    1.25     0.0    0.0  NaN  NaN   \n",
              "3  2680.00  4245.0   325.00  2670.0  240.00  1050.0  450.0  NaN  NaN   \n",
              "4     1.22     0.6     8.26     0.0    1.25     0.0    0.0  NaN  NaN   \n",
              "\n",
              "   Qtr Total  \n",
              "0   15125.00  \n",
              "1   17660.00  \n",
              "2       0.86  \n",
              "3   17660.00  \n",
              "4       0.86  "
            ]
          },
          "execution_count": 2,
          "metadata": {},
          "output_type": "execute_result"
        }
      ],
      "source": [
        "# Reading the data to a panda dataframe \n",
        "df_master = pd.read_csv('Parent_Advertiser_2021.csv')\n",
        "df_master.head()"
      ]
    },
    {
      "cell_type": "code",
      "execution_count": null,
      "id": "42845fa8",
      "metadata": {
        "id": "42845fa8",
        "outputId": "bfd52a90-584e-446d-ff4e-586374bc5b21"
      },
      "outputs": [
        {
          "data": {
            "text/html": [
              "<div>\n",
              "<style scoped>\n",
              "    .dataframe tbody tr th:only-of-type {\n",
              "        vertical-align: middle;\n",
              "    }\n",
              "\n",
              "    .dataframe tbody tr th {\n",
              "        vertical-align: top;\n",
              "    }\n",
              "\n",
              "    .dataframe thead th {\n",
              "        text-align: right;\n",
              "    }\n",
              "</style>\n",
              "<table border=\"1\" class=\"dataframe\">\n",
              "  <thead>\n",
              "    <tr style=\"text-align: right;\">\n",
              "      <th></th>\n",
              "      <th>Market</th>\n",
              "      <th>Parent_Advertiser</th>\n",
              "      <th>Metric</th>\n",
              "      <th>Jan</th>\n",
              "      <th>Feb</th>\n",
              "      <th>Mar</th>\n",
              "      <th>Apr</th>\n",
              "      <th>May</th>\n",
              "      <th>Jun</th>\n",
              "      <th>Jul</th>\n",
              "      <th>Aug</th>\n",
              "      <th>Sep</th>\n",
              "      <th>Oct</th>\n",
              "      <th>Nov</th>\n",
              "      <th>Dec</th>\n",
              "      <th>Qtr Total</th>\n",
              "    </tr>\n",
              "  </thead>\n",
              "  <tbody>\n",
              "    <tr>\n",
              "      <th>0</th>\n",
              "      <td>BALTIMORE</td>\n",
              "      <td>2ND SWING GOLF</td>\n",
              "      <td>CY OTB</td>\n",
              "      <td>490.0</td>\n",
              "      <td>2930.0</td>\n",
              "      <td>2910.0</td>\n",
              "      <td>3255.0</td>\n",
              "      <td>2555.0</td>\n",
              "      <td>2685.0</td>\n",
              "      <td>0.0</td>\n",
              "      <td>300.0</td>\n",
              "      <td>0.0</td>\n",
              "      <td>0.0</td>\n",
              "      <td>NaN</td>\n",
              "      <td>NaN</td>\n",
              "      <td>15125.0</td>\n",
              "    </tr>\n",
              "    <tr>\n",
              "      <th>5</th>\n",
              "      <td>BALTIMORE</td>\n",
              "      <td>10TH INNING</td>\n",
              "      <td>CY OTB</td>\n",
              "      <td>143.0</td>\n",
              "      <td>NaN</td>\n",
              "      <td>NaN</td>\n",
              "      <td>NaN</td>\n",
              "      <td>NaN</td>\n",
              "      <td>NaN</td>\n",
              "      <td>NaN</td>\n",
              "      <td>NaN</td>\n",
              "      <td>0.0</td>\n",
              "      <td>0.0</td>\n",
              "      <td>0.0</td>\n",
              "      <td>0.0</td>\n",
              "      <td>143.0</td>\n",
              "    </tr>\n",
              "    <tr>\n",
              "      <th>10</th>\n",
              "      <td>BALTIMORE</td>\n",
              "      <td>A STEP ABOVE THE REST</td>\n",
              "      <td>CY OTB</td>\n",
              "      <td>NaN</td>\n",
              "      <td>NaN</td>\n",
              "      <td>NaN</td>\n",
              "      <td>NaN</td>\n",
              "      <td>NaN</td>\n",
              "      <td>NaN</td>\n",
              "      <td>NaN</td>\n",
              "      <td>NaN</td>\n",
              "      <td>NaN</td>\n",
              "      <td>NaN</td>\n",
              "      <td>0.0</td>\n",
              "      <td>NaN</td>\n",
              "      <td>0.0</td>\n",
              "    </tr>\n",
              "    <tr>\n",
              "      <th>15</th>\n",
              "      <td>BALTIMORE</td>\n",
              "      <td>AAMCO</td>\n",
              "      <td>CY OTB</td>\n",
              "      <td>3269.0</td>\n",
              "      <td>3293.0</td>\n",
              "      <td>2805.0</td>\n",
              "      <td>3183.0</td>\n",
              "      <td>3225.0</td>\n",
              "      <td>3137.0</td>\n",
              "      <td>4454.0</td>\n",
              "      <td>3672.0</td>\n",
              "      <td>3426.0</td>\n",
              "      <td>5396.0</td>\n",
              "      <td>5390.0</td>\n",
              "      <td>5517.0</td>\n",
              "      <td>46767.0</td>\n",
              "    </tr>\n",
              "    <tr>\n",
              "      <th>20</th>\n",
              "      <td>BALTIMORE</td>\n",
              "      <td>ABOUT FACES DAY SPA AND SALON</td>\n",
              "      <td>CY OTB</td>\n",
              "      <td>NaN</td>\n",
              "      <td>NaN</td>\n",
              "      <td>NaN</td>\n",
              "      <td>NaN</td>\n",
              "      <td>0.0</td>\n",
              "      <td>NaN</td>\n",
              "      <td>NaN</td>\n",
              "      <td>NaN</td>\n",
              "      <td>NaN</td>\n",
              "      <td>NaN</td>\n",
              "      <td>0.0</td>\n",
              "      <td>0.0</td>\n",
              "      <td>0.0</td>\n",
              "    </tr>\n",
              "  </tbody>\n",
              "</table>\n",
              "</div>"
            ],
            "text/plain": [
              "       Market              Parent_Advertiser  Metric     Jan     Feb     Mar  \\\n",
              "0   BALTIMORE                 2ND SWING GOLF  CY OTB   490.0  2930.0  2910.0   \n",
              "5   BALTIMORE                    10TH INNING  CY OTB   143.0     NaN     NaN   \n",
              "10  BALTIMORE          A STEP ABOVE THE REST  CY OTB     NaN     NaN     NaN   \n",
              "15  BALTIMORE                          AAMCO  CY OTB  3269.0  3293.0  2805.0   \n",
              "20  BALTIMORE  ABOUT FACES DAY SPA AND SALON  CY OTB     NaN     NaN     NaN   \n",
              "\n",
              "       Apr     May     Jun     Jul     Aug     Sep     Oct     Nov     Dec  \\\n",
              "0   3255.0  2555.0  2685.0     0.0   300.0     0.0     0.0     NaN     NaN   \n",
              "5      NaN     NaN     NaN     NaN     NaN     0.0     0.0     0.0     0.0   \n",
              "10     NaN     NaN     NaN     NaN     NaN     NaN     NaN     0.0     NaN   \n",
              "15  3183.0  3225.0  3137.0  4454.0  3672.0  3426.0  5396.0  5390.0  5517.0   \n",
              "20     NaN     0.0     NaN     NaN     NaN     NaN     NaN     0.0     0.0   \n",
              "\n",
              "    Qtr Total  \n",
              "0     15125.0  \n",
              "5       143.0  \n",
              "10        0.0  \n",
              "15    46767.0  \n",
              "20        0.0  "
            ]
          },
          "execution_count": 3,
          "metadata": {},
          "output_type": "execute_result"
        }
      ],
      "source": [
        "df_master = df_master.loc[df_master['Metric'] == 'CY OTB']\n",
        "df_master.head()"
      ]
    },
    {
      "cell_type": "code",
      "execution_count": null,
      "id": "15f349d1",
      "metadata": {
        "id": "15f349d1",
        "outputId": "d5e6bed3-0d1b-4a04-af2b-84813bd5c973"
      },
      "outputs": [
        {
          "name": "stdout",
          "output_type": "stream",
          "text": [
            "Outliers: [620934.0, 502448.0, 553939.0, 533506.0, 773295.0, 503307.0, 2573474.0, 717040.0, 622400.0, 563137.0, 818104.0, 883602.0, 1825843.0, 627575.0, 1170300.0, 1284150.0, 906741.0, 555217.0, 1024292.0, 595451.0, 1123654.0, 6869363.0, 1886731.0, 692634.0]\n"
          ]
        }
      ],
      "source": [
        "# Selecting the outliers who has a Z score greater than 3\n",
        "outlier_list=[]\n",
        "out=[]\n",
        "def Zscore_outlier(df):\n",
        "    m = np.mean(df)\n",
        "    sd = np.std(df)\n",
        "    for i in df: \n",
        "        z = (i-m)/sd\n",
        "        if np.abs(z) > 3: \n",
        "            out.append(i)\n",
        "    print(\"Outliers:\",out)\n",
        "Zscore_outlier(df_master['Qtr Total'])"
      ]
    },
    {
      "cell_type": "code",
      "execution_count": null,
      "id": "89a3c571",
      "metadata": {
        "scrolled": true,
        "id": "89a3c571"
      },
      "outputs": [],
      "source": [
        "df_outliers = pd.DataFrame()\n",
        "for outlier in out:\n",
        "    #print(df[['Market', 'Parent_Advertiser', 'Qtr Total']].loc[df_master['Qtr Total'] == outlier])\n",
        "    df_outliers=df_outliers.append(df_master[['Market', 'Parent_Advertiser', 'Qtr Total']].loc[df_master['Qtr Total'] == outlier])"
      ]
    },
    {
      "cell_type": "code",
      "execution_count": null,
      "id": "f532d725",
      "metadata": {
        "scrolled": true,
        "id": "f532d725",
        "outputId": "eb2356a3-017e-4296-bba3-bcea2177b286"
      },
      "outputs": [
        {
          "name": "stdout",
          "output_type": "stream",
          "text": [
            "           Market                     Parent_Advertiser  Qtr Total\n",
            "1475    BALTIMORE         MARYLAND DEPARTMENT OF HEALTH   620934.0\n",
            "1605    BALTIMORE     MISSISSIPPI DEPARTMENT OF TOURISM   502448.0\n",
            "5020    KNOXVILLE            TOYOTA DEALERS ASSOCIATION   553939.0\n",
            "5685      MEMPHIS                        HOLLYWOOD FEED   533506.0\n",
            "6215      MEMPHIS            TOYOTA DEALERS ASSOCIATION   773295.0\n",
            "7995    NASHVILLE                MUSIC CITY PREP CLINIC   503307.0\n",
            "8865    NASHVILLE            TOYOTA DEALERS ASSOCIATION  2573474.0\n",
            "9230     RICHMOND                       ALLEN AND ALLEN   717040.0\n",
            "11060     ROANOKE             HONDA DEALERS ASSOCIATION   622400.0\n",
            "12570   SALISBURY                       SCHELL BROTHERS   563137.0\n",
            "13060  WASHINGTON                                 APPLE   818104.0\n",
            "14115  WASHINGTON                              EMERGENT   883602.0\n",
            "14235  WASHINGTON                               FH FURR  1825843.0\n",
            "14455  WASHINGTON                            GIANT FOOD   627575.0\n",
            "14555  WASHINGTON                         HARRIS TEETER  1170300.0\n",
            "14665  WASHINGTON             HONDA DEALERS ASSOCIATION  1284150.0\n",
            "14695  WASHINGTON           HYUNDAI DEALERS ASSOCIATION   906741.0\n",
            "15010  WASHINGTON                       LEN THE PLUMBER   555217.0\n",
            "15170  WASHINGTON         MARYLAND DEPARTMENT OF HEALTH  1024292.0\n",
            "15210  WASHINGTON                MARYLAND STATE LOTTERY   595451.0\n",
            "15560  WASHINGTON                   NJM INSURANCE GROUP  1123654.0\n",
            "16670  WASHINGTON            TOYOTA DEALERS ASSOCIATION  6869363.0\n",
            "16755  WASHINGTON  UNIVERSITY OF MARYLAND GLOBAL CAMPUS  1886731.0\n",
            "17195  WASHINGTON                               WTTG TV   692634.0\n"
          ]
        }
      ],
      "source": [
        "print(df_outliers)"
      ]
    },
    {
      "cell_type": "markdown",
      "id": "71ceb01f",
      "metadata": {
        "id": "71ceb01f"
      },
      "source": [
        " # IQR METHOD"
      ]
    },
    {
      "cell_type": "code",
      "execution_count": null,
      "id": "82de885c",
      "metadata": {
        "id": "82de885c",
        "outputId": "0def29a4-d9b1-4e17-a8eb-ea0b59271cef"
      },
      "outputs": [
        {
          "name": "stdout",
          "output_type": "stream",
          "text": [
            "Outliers: [161356.0, 214892.0, 77814.0, 104550.0, 78880.0, 101279.0, 138422.0, 397438.0, 401465.0, 140698.0, 103639.0, 300189.0, 83748.0, 96022.0, 146568.0, 110934.0, 113297.0, 169707.0, 80362.0, 123313.0, 101523.0, 96213.0, 217879.0, 156319.0, 158759.0, 155873.0, 80235.0, 144061.0, 108781.0, 80438.0, 88715.0, 199774.0, 212464.0, 74988.0, 167509.0, 363868.0, 76481.0, 84742.0, 620934.0, 361123.0, 502448.0, 85905.0, 265327.0, 92424.0, 332084.0, 154955.0, 293546.0, 76234.0, 94478.0, 134510.0, 149516.0, 144673.0, 145800.0, 127157.0, 166979.0, 147962.0, 99988.0, 107413.0, 134628.0, 131330.0, 91636.0, 413880.0, 111046.0, 181059.0, 180239.0, 242267.0, 78018.0, 83713.0, 472080.0, 77194.0, 97218.0, 85644.0, 112869.0, 80128.0, 90313.0, 105369.0, 151592.0, 95521.0, 116893.0, 96646.0, 93243.0, 154024.0, 92491.0, 159549.0, 181006.0, 134099.0, 97130.0, 107387.0, 459457.0, 111504.0, 178257.0, 92700.0, 85179.0, 82718.0, 134604.0, 81451.0, 172862.0, 79480.0, 553939.0, 270941.0, 127447.0, 105042.0, 127277.0, 85746.0, 214492.0, 189933.0, 93077.0, 84684.0, 533506.0, 82118.0, 92149.0, 82160.0, 81793.0, 224640.0, 297314.0, 90747.0, 773295.0, 79598.0, 136895.0, 115051.0, 105920.0, 138269.0, 160000.0, 190874.0, 83816.0, 283066.0, 140194.0, 81275.0, 162717.0, 203406.0, 81337.0, 301338.0, 380985.0, 270885.0, 134644.0, 91806.0, 75205.0, 211065.0, 85879.0, 79204.0, 174035.0, 180034.0, 158717.0, 493252.0, 105502.0, 99906.0, 126963.0, 93265.0, 178781.0, 242182.0, 91764.0, 503307.0, 177523.0, 94731.0, 152943.0, 315982.0, 202551.0, 91472.0, 75723.0, 212994.0, 124717.0, 80892.0, 77263.0, 403494.0, 80119.0, 125680.0, 75354.0, 253025.0, 174385.0, 313757.0, 2573474.0, 101205.0, 313802.0, 188090.0, 91630.0, 717040.0, 88422.0, 186028.0, 127616.0, 101628.0, 121222.0, 214324.0, 319141.0, 211239.0, 204228.0, 170172.0, 75219.0, 102247.0, 145610.0, 251563.0, 127131.0, 178224.0, 75427.0, 87927.0, 78018.0, 129153.0, 141118.0, 150506.0, 197420.0, 170300.0, 109168.0, 133405.0, 622400.0, 171690.0, 84309.0, 76175.0, 81976.0, 291356.0, 103089.0, 74995.0, 79709.0, 110800.0, 425731.0, 271585.0, 91303.0, 563137.0, 149181.0, 103078.0, 203366.0, 492847.0, 100975.0, 132103.0, 389504.0, 103466.0, 86764.0, 408079.0, 102949.0, 75000.0, 818104.0, 162319.0, 79624.0, 429206.0, 133617.0, 277468.0, 181122.0, 197314.0, 105379.0, 98946.0, 144044.0, 290826.0, 114141.0, 122898.0, 353062.0, 90823.0, 179979.0, 75000.0, 103014.0, 77305.0, 147029.0, 135344.0, 379771.0, 282125.0, 74991.0, 195109.0, 212193.0, 104009.0, 126348.0, 132968.0, 489565.0, 883602.0, 75777.0, 1825843.0, 114438.0, 75661.0, 397360.0, 190287.0, 439761.0, 109178.0, 627575.0, 76780.0, 105171.0, 264797.0, 1170300.0, 91341.0, 148875.0, 1284150.0, 906741.0, 76507.0, 417429.0, 228424.0, 112830.0, 79362.0, 149635.0, 117522.0, 324007.0, 235662.0, 183828.0, 81773.0, 271489.0, 555217.0, 124218.0, 357864.0, 140288.0, 98719.0, 78698.0, 86091.0, 194638.0, 129681.0, 90676.0, 88323.0, 457373.0, 1024292.0, 275839.0, 595451.0, 132111.0, 368745.0, 163263.0, 319216.0, 210596.0, 101309.0, 195868.0, 156661.0, 81804.0, 327673.0, 183949.0, 113803.0, 281840.0, 310377.0, 1123654.0, 77361.0, 85106.0, 78623.0, 244381.0, 334748.0, 251753.0, 149895.0, 99681.0, 109200.0, 333873.0, 99941.0, 137049.0, 352614.0, 104822.0, 75995.0, 86872.0, 77638.0, 76940.0, 77034.0, 137203.0, 203197.0, 6869363.0, 79931.0, 264054.0, 1886731.0, 108347.0, 492706.0, 379328.0, 286530.0, 106548.0, 89973.0, 122582.0, 501008.0, 387805.0, 105429.0, 203268.0, 126143.0, 109922.0, 119271.0, 118934.0, 76572.0, 261630.0, 102955.0, 169544.0, 692634.0, 265145.0, 247898.0]\n"
          ]
        }
      ],
      "source": [
        "import pandas as pd\n",
        "import numpy as np\n",
        "\n",
        "out=[]\n",
        "def iqr_outliers(df):\n",
        "    q1 = df.quantile(0.25)\n",
        "    q3 = df.quantile(0.75)\n",
        "    iqr = q3-q1\n",
        "    Lower_tail = q1 - 1.5 * iqr\n",
        "    Upper_tail = q3 + 1.5 * iqr\n",
        "    for i in df:\n",
        "        if i > Upper_tail or i < Lower_tail:\n",
        "            out.append(i)\n",
        "    print(\"Outliers:\",out)\n",
        "iqr_outliers(df_master['Qtr Total'])"
      ]
    },
    {
      "cell_type": "markdown",
      "id": "6e836218",
      "metadata": {
        "id": "6e836218"
      },
      "source": [
        "# VISUALIZING THE DATA"
      ]
    },
    {
      "cell_type": "markdown",
      "id": "d970cdd5",
      "metadata": {
        "id": "d970cdd5"
      },
      "source": [
        "1. Box and whisker plot (box plot).\n",
        "2. Scatter plot.\n",
        "3. Histogram.\n",
        "4. Distribution Plot.\n",
        "5. QQ plot."
      ]
    },
    {
      "cell_type": "code",
      "execution_count": null,
      "id": "4e843a2d",
      "metadata": {
        "id": "4e843a2d",
        "outputId": "3d9689e5-ea8f-4182-f6fc-4e9abe8de887"
      },
      "outputs": [
        {
          "data": {
            "image/png": "[encoded data removed]",
            "text/plain": [
              "<Figure size 720x288 with 1 Axes>"
            ]
          },
          "metadata": {
            "needs_background": "light"
          },
          "output_type": "display_data"
        },
        {
          "data": {
            "image/png": "[encoded data removed]",
            "text/plain": [
              "<Figure size 720x288 with 1 Axes>"
            ]
          },
          "metadata": {
            "needs_background": "light"
          },
          "output_type": "display_data"
        },
        {
          "data": {
            "image/png": "[encoded data removed]",
            "text/plain": [
              "<Figure size 720x288 with 1 Axes>"
            ]
          },
          "metadata": {
            "needs_background": "light"
          },
          "output_type": "display_data"
        },
        {
          "data": {
            "text/plain": [
              "<Figure size 720x288 with 0 Axes>"
            ]
          },
          "metadata": {},
          "output_type": "display_data"
        },
        {
          "data": {
            "image/png": "[encoded data removed]",
            "text/plain": [
              "<Figure size 360x360 with 1 Axes>"
            ]
          },
          "metadata": {
            "needs_background": "light"
          },
          "output_type": "display_data"
        },
        {
          "data": {
            "text/plain": [
              "<Figure size 720x288 with 0 Axes>"
            ]
          },
          "metadata": {},
          "output_type": "display_data"
        },
        {
          "data": {
            "image/png": "[encoded data removed]",
            "text/plain": [
              "<Figure size 432x288 with 1 Axes>"
            ]
          },
          "metadata": {
            "needs_background": "light"
          },
          "output_type": "display_data"
        }
      ],
      "source": [
        "import pandas as pd\n",
        "import seaborn as sns\n",
        "from matplotlib import pyplot as plt\n",
        "from statsmodels.graphics.gofplots import qqplot\n",
        "\n",
        "def Box_plots(df):\n",
        "    plt.figure(figsize=(10, 4))\n",
        "    plt.title(\"Box Plot\")\n",
        "    sns.boxplot(x=df)\n",
        "    plt.show()\n",
        "Box_plots(df_master['Qtr Total'])\n",
        "\n",
        "def hist_plots(df):\n",
        "    plt.figure(figsize=(10, 4))\n",
        "    plt.hist(df)\n",
        "    plt.title(\"Histogram Plot\")\n",
        "    plt.show()\n",
        "hist_plots(df_master['Qtr Total'])\n",
        "\n",
        "def scatter_plots(df1,df2):\n",
        "    fig, ax = plt.subplots(figsize=(10,4))\n",
        "    ax.scatter(df1,df2)\n",
        "    ax.set_xlabel('Total Revenue')\n",
        "    ax.set_ylabel('Jan Revenue')\n",
        "    plt.title(\"Scatter Plot\")\n",
        "    plt.show()\n",
        "scatter_plots(df_master['Qtr Total'],df_master['Jan'])\n",
        "\n",
        "def displot_plots(df):\n",
        "    plt.figure(figsize=(10, 4))\n",
        "    sns.displot(x=df)\n",
        "    plt.title(\"Distribution plot\")\n",
        "    sns.despine()\n",
        "    plt.show()\n",
        "displot_plots(df_master['Qtr Total'])\n",
        "\n",
        "def qq_plots(df):\n",
        "    plt.figure(figsize=(10, 4))\n",
        "    qqplot(df,line='s')\n",
        "    plt.title(\"Normal QQPlot\")\n",
        "    plt.show()\n",
        "qq_plots(df_master['Qtr Total'])"
      ]
    },
    {
      "cell_type": "code",
      "execution_count": null,
      "id": "9083e658",
      "metadata": {
        "id": "9083e658"
      },
      "outputs": [],
      "source": []
    }
  ],
  "metadata": {
    "kernelspec": {
      "display_name": "Python 3",
      "language": "python",
      "name": "python3"
    },
    "language_info": {
      "codemirror_mode": {
        "name": "ipython",
        "version": 3
      },
      "file_extension": ".py",
      "mimetype": "text/x-python",
      "name": "python",
      "nbconvert_exporter": "python",
      "pygments_lexer": "ipython3",
      "version": "3.8.8"
    },
    "colab": {
      "provenance": []
    }
  },
  "nbformat": 4,
  "nbformat_minor": 5
}