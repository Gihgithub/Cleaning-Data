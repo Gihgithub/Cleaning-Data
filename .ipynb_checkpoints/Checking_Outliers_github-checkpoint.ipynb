{
 "cells": [
  {
   "cell_type": "markdown",
   "id": "0c5fdcbf",
   "metadata": {
    "id": "0c5fdcbf"
   },
   "source": [
    "# Outlier Detection"
   ]
  },
  {
   "cell_type": "code",
   "execution_count": 1,
   "id": "60c30a3d",
   "metadata": {
    "id": "60c30a3d"
   },
   "outputs": [],
   "source": [
    "import pandas as pd\n",
    "import numpy as np"
   ]
  },
  {
   "cell_type": "markdown",
   "id": "26d7b105",
   "metadata": {
    "id": "26d7b105"
   },
   "source": [
    "## 1. Z-SCORE METHOD"
   ]
  },
  {
   "cell_type": "markdown",
   "id": "d8aee890",
   "metadata": {
    "id": "d8aee890"
   },
   "source": [
    "Using Z score method,we can find out how many standard deviations value away from the mean\n",
    "If the z score of a data point is more than 3 (because it cover 99.7% of area), it indicates that the data value is quite different from the other values. It is taken as outliers."
   ]
  },
  {
   "cell_type": "code",
   "execution_count": 2,
   "id": "5107333b",
   "metadata": {
    "id": "5107333b",
    "outputId": "00c9d03d-d73f-41c7-e371-3adc64ec1099",
    "scrolled": false
   },
   "outputs": [
    {
     "data": {
      "text/html": [
       "<div>\n",
       "<style scoped>\n",
       "    .dataframe tbody tr th:only-of-type {\n",
       "        vertical-align: middle;\n",
       "    }\n",
       "\n",
       "    .dataframe tbody tr th {\n",
       "        vertical-align: top;\n",
       "    }\n",
       "\n",
       "    .dataframe thead th {\n",
       "        text-align: right;\n",
       "    }\n",
       "</style>\n",
       "<table border=\"1\" class=\"dataframe\">\n",
       "  <thead>\n",
       "    <tr style=\"text-align: right;\">\n",
       "      <th></th>\n",
       "      <th>Country</th>\n",
       "      <th>1990</th>\n",
       "      <th>2005</th>\n",
       "      <th>2017</th>\n",
       "      <th>2017(% of world)</th>\n",
       "      <th>2017 vs 1990: change (%)</th>\n",
       "      <th>Per land area(t CO2/km2/yr)</th>\n",
       "      <th>Per capita(t CO2/cap/yr)</th>\n",
       "      <th>Total including LUCF</th>\n",
       "      <th>Total excluding LUCF</th>\n",
       "    </tr>\n",
       "  </thead>\n",
       "  <tbody>\n",
       "    <tr>\n",
       "      <th>0</th>\n",
       "      <td>World</td>\n",
       "      <td>22674.116</td>\n",
       "      <td>30049.809</td>\n",
       "      <td>37077.404</td>\n",
       "      <td>100.00%</td>\n",
       "      <td>63.50%</td>\n",
       "      <td>73.0</td>\n",
       "      <td>4.9</td>\n",
       "      <td>36431.11</td>\n",
       "      <td>35247.21</td>\n",
       "    </tr>\n",
       "    <tr>\n",
       "      <th>1</th>\n",
       "      <td>World  International Aviation</td>\n",
       "      <td>258.941</td>\n",
       "      <td>422.777</td>\n",
       "      <td>543.381</td>\n",
       "      <td>1.47%</td>\n",
       "      <td>109.80%</td>\n",
       "      <td>NaN</td>\n",
       "      <td>NaN</td>\n",
       "      <td>NaN</td>\n",
       "      <td>NaN</td>\n",
       "    </tr>\n",
       "    <tr>\n",
       "      <th>2</th>\n",
       "      <td>World  International Shipping</td>\n",
       "      <td>371.804</td>\n",
       "      <td>572.169</td>\n",
       "      <td>677.248</td>\n",
       "      <td>1.83%</td>\n",
       "      <td>82.20%</td>\n",
       "      <td>NaN</td>\n",
       "      <td>NaN</td>\n",
       "      <td>NaN</td>\n",
       "      <td>NaN</td>\n",
       "    </tr>\n",
       "    <tr>\n",
       "      <th>3</th>\n",
       "      <td>Afghanistan</td>\n",
       "      <td>2.546</td>\n",
       "      <td>1.063</td>\n",
       "      <td>11.422</td>\n",
       "      <td>0.03%</td>\n",
       "      <td>348.60%</td>\n",
       "      <td>18.0</td>\n",
       "      <td>0.3</td>\n",
       "      <td>7.59</td>\n",
       "      <td>7.44</td>\n",
       "    </tr>\n",
       "    <tr>\n",
       "      <th>4</th>\n",
       "      <td>Albania</td>\n",
       "      <td>6.583</td>\n",
       "      <td>4.196</td>\n",
       "      <td>5.026</td>\n",
       "      <td>0.01%</td>\n",
       "      <td>-23.70%</td>\n",
       "      <td>175.0</td>\n",
       "      <td>1.7</td>\n",
       "      <td>5.32</td>\n",
       "      <td>5.56</td>\n",
       "    </tr>\n",
       "  </tbody>\n",
       "</table>\n",
       "</div>"
      ],
      "text/plain": [
       "                         Country       1990       2005       2017  \\\n",
       "0                          World  22674.116  30049.809  37077.404   \n",
       "1  World  International Aviation    258.941    422.777    543.381   \n",
       "2  World  International Shipping    371.804    572.169    677.248   \n",
       "3                    Afghanistan      2.546      1.063     11.422   \n",
       "4                        Albania      6.583      4.196      5.026   \n",
       "\n",
       "  2017(% of world) 2017 vs 1990: change (%)  Per land area(t CO2/km2/yr)  \\\n",
       "0          100.00%                   63.50%                         73.0   \n",
       "1            1.47%                  109.80%                          NaN   \n",
       "2            1.83%                   82.20%                          NaN   \n",
       "3            0.03%                  348.60%                         18.0   \n",
       "4            0.01%                  -23.70%                        175.0   \n",
       "\n",
       "   Per capita(t CO2/cap/yr) Total including LUCF Total excluding LUCF  \n",
       "0                       4.9             36431.11             35247.21  \n",
       "1                       NaN                  NaN                  NaN  \n",
       "2                       NaN                  NaN                  NaN  \n",
       "3                       0.3                 7.59                 7.44  \n",
       "4                       1.7                 5.32                 5.56  "
      ]
     },
     "execution_count": 2,
     "metadata": {},
     "output_type": "execute_result"
    }
   ],
   "source": [
    "# Reading the data to a panda dataframe \n",
    "df_master = pd.read_csv('Countries by carbon dioxide emissions.csv')\n",
    "df_master.head()"
   ]
  },
  {
   "cell_type": "code",
   "execution_count": 3,
   "id": "c197ad75",
   "metadata": {},
   "outputs": [],
   "source": [
    "df_master = df_master.drop([0, 1, 2])"
   ]
  },
  {
   "cell_type": "code",
   "execution_count": 4,
   "id": "4238b336",
   "metadata": {},
   "outputs": [
    {
     "data": {
      "text/html": [
       "<div>\n",
       "<style scoped>\n",
       "    .dataframe tbody tr th:only-of-type {\n",
       "        vertical-align: middle;\n",
       "    }\n",
       "\n",
       "    .dataframe tbody tr th {\n",
       "        vertical-align: top;\n",
       "    }\n",
       "\n",
       "    .dataframe thead th {\n",
       "        text-align: right;\n",
       "    }\n",
       "</style>\n",
       "<table border=\"1\" class=\"dataframe\">\n",
       "  <thead>\n",
       "    <tr style=\"text-align: right;\">\n",
       "      <th></th>\n",
       "      <th>Country</th>\n",
       "      <th>1990</th>\n",
       "      <th>2005</th>\n",
       "      <th>2017</th>\n",
       "      <th>2017(% of world)</th>\n",
       "      <th>2017 vs 1990: change (%)</th>\n",
       "      <th>Per land area(t CO2/km2/yr)</th>\n",
       "      <th>Per capita(t CO2/cap/yr)</th>\n",
       "      <th>Total including LUCF</th>\n",
       "      <th>Total excluding LUCF</th>\n",
       "    </tr>\n",
       "  </thead>\n",
       "  <tbody>\n",
       "    <tr>\n",
       "      <th>3</th>\n",
       "      <td>Afghanistan</td>\n",
       "      <td>2.546</td>\n",
       "      <td>1.063</td>\n",
       "      <td>11.422</td>\n",
       "      <td>0.03%</td>\n",
       "      <td>348.60%</td>\n",
       "      <td>18.0</td>\n",
       "      <td>0.3</td>\n",
       "      <td>7.59</td>\n",
       "      <td>7.44</td>\n",
       "    </tr>\n",
       "    <tr>\n",
       "      <th>4</th>\n",
       "      <td>Albania</td>\n",
       "      <td>6.583</td>\n",
       "      <td>4.196</td>\n",
       "      <td>5.026</td>\n",
       "      <td>0.01%</td>\n",
       "      <td>-23.70%</td>\n",
       "      <td>175.0</td>\n",
       "      <td>1.7</td>\n",
       "      <td>5.32</td>\n",
       "      <td>5.56</td>\n",
       "    </tr>\n",
       "    <tr>\n",
       "      <th>5</th>\n",
       "      <td>Algeria</td>\n",
       "      <td>65.677</td>\n",
       "      <td>98.197</td>\n",
       "      <td>159.929</td>\n",
       "      <td>0.43%</td>\n",
       "      <td>143.50%</td>\n",
       "      <td>67.0</td>\n",
       "      <td>3.9</td>\n",
       "      <td>151.87</td>\n",
       "      <td>151.67</td>\n",
       "    </tr>\n",
       "    <tr>\n",
       "      <th>6</th>\n",
       "      <td>Angola</td>\n",
       "      <td>5.851</td>\n",
       "      <td>15.975</td>\n",
       "      <td>30.876</td>\n",
       "      <td>0.08%</td>\n",
       "      <td>427.70%</td>\n",
       "      <td>25.0</td>\n",
       "      <td>1.0</td>\n",
       "      <td>62.93</td>\n",
       "      <td>27.34</td>\n",
       "    </tr>\n",
       "    <tr>\n",
       "      <th>7</th>\n",
       "      <td>Anguilla</td>\n",
       "      <td>0.006</td>\n",
       "      <td>0.014</td>\n",
       "      <td>0.028</td>\n",
       "      <td>0.00%</td>\n",
       "      <td>366.70%</td>\n",
       "      <td>308.0</td>\n",
       "      <td>1.9</td>\n",
       "      <td>NaN</td>\n",
       "      <td>NaN</td>\n",
       "    </tr>\n",
       "  </tbody>\n",
       "</table>\n",
       "</div>"
      ],
      "text/plain": [
       "       Country    1990    2005     2017 2017(% of world)  \\\n",
       "3  Afghanistan   2.546   1.063   11.422            0.03%   \n",
       "4      Albania   6.583   4.196    5.026            0.01%   \n",
       "5      Algeria  65.677  98.197  159.929            0.43%   \n",
       "6       Angola   5.851  15.975   30.876            0.08%   \n",
       "7     Anguilla   0.006   0.014    0.028            0.00%   \n",
       "\n",
       "  2017 vs 1990: change (%)  Per land area(t CO2/km2/yr)  \\\n",
       "3                  348.60%                         18.0   \n",
       "4                  -23.70%                        175.0   \n",
       "5                  143.50%                         67.0   \n",
       "6                  427.70%                         25.0   \n",
       "7                  366.70%                        308.0   \n",
       "\n",
       "   Per capita(t CO2/cap/yr) Total including LUCF Total excluding LUCF  \n",
       "3                       0.3                 7.59                 7.44  \n",
       "4                       1.7                 5.32                 5.56  \n",
       "5                       3.9               151.87               151.67  \n",
       "6                       1.0                62.93                27.34  \n",
       "7                       1.9                  NaN                  NaN  "
      ]
     },
     "execution_count": 4,
     "metadata": {},
     "output_type": "execute_result"
    }
   ],
   "source": [
    "df_master.head()"
   ]
  },
  {
   "cell_type": "code",
   "execution_count": 5,
   "id": "42845fa8",
   "metadata": {
    "id": "42845fa8",
    "outputId": "bfd52a90-584e-446d-ff4e-586374bc5b21"
   },
   "outputs": [
    {
     "data": {
      "text/html": [
       "<div>\n",
       "<style scoped>\n",
       "    .dataframe tbody tr th:only-of-type {\n",
       "        vertical-align: middle;\n",
       "    }\n",
       "\n",
       "    .dataframe tbody tr th {\n",
       "        vertical-align: top;\n",
       "    }\n",
       "\n",
       "    .dataframe thead th {\n",
       "        text-align: right;\n",
       "    }\n",
       "</style>\n",
       "<table border=\"1\" class=\"dataframe\">\n",
       "  <thead>\n",
       "    <tr style=\"text-align: right;\">\n",
       "      <th></th>\n",
       "      <th>Country</th>\n",
       "      <th>1990</th>\n",
       "      <th>2005</th>\n",
       "      <th>2017</th>\n",
       "      <th>2017(% of world)</th>\n",
       "      <th>2017 vs 1990: change (%)</th>\n",
       "      <th>Per land area(t CO2/km2/yr)</th>\n",
       "      <th>Per capita(t CO2/cap/yr)</th>\n",
       "      <th>Total including LUCF</th>\n",
       "      <th>Total excluding LUCF</th>\n",
       "    </tr>\n",
       "  </thead>\n",
       "  <tbody>\n",
       "    <tr>\n",
       "      <th>3</th>\n",
       "      <td>Afghanistan</td>\n",
       "      <td>2.546</td>\n",
       "      <td>1.063</td>\n",
       "      <td>11.422</td>\n",
       "      <td>0.03%</td>\n",
       "      <td>348.60%</td>\n",
       "      <td>18.0</td>\n",
       "      <td>0.3</td>\n",
       "      <td>7.59</td>\n",
       "      <td>7.44</td>\n",
       "    </tr>\n",
       "    <tr>\n",
       "      <th>4</th>\n",
       "      <td>Albania</td>\n",
       "      <td>6.583</td>\n",
       "      <td>4.196</td>\n",
       "      <td>5.026</td>\n",
       "      <td>0.01%</td>\n",
       "      <td>-23.70%</td>\n",
       "      <td>175.0</td>\n",
       "      <td>1.7</td>\n",
       "      <td>5.32</td>\n",
       "      <td>5.56</td>\n",
       "    </tr>\n",
       "    <tr>\n",
       "      <th>5</th>\n",
       "      <td>Algeria</td>\n",
       "      <td>65.677</td>\n",
       "      <td>98.197</td>\n",
       "      <td>159.929</td>\n",
       "      <td>0.43%</td>\n",
       "      <td>143.50%</td>\n",
       "      <td>67.0</td>\n",
       "      <td>3.9</td>\n",
       "      <td>151.87</td>\n",
       "      <td>151.67</td>\n",
       "    </tr>\n",
       "    <tr>\n",
       "      <th>6</th>\n",
       "      <td>Angola</td>\n",
       "      <td>5.851</td>\n",
       "      <td>15.975</td>\n",
       "      <td>30.876</td>\n",
       "      <td>0.08%</td>\n",
       "      <td>427.70%</td>\n",
       "      <td>25.0</td>\n",
       "      <td>1.0</td>\n",
       "      <td>62.93</td>\n",
       "      <td>27.34</td>\n",
       "    </tr>\n",
       "    <tr>\n",
       "      <th>7</th>\n",
       "      <td>Anguilla</td>\n",
       "      <td>0.006</td>\n",
       "      <td>0.014</td>\n",
       "      <td>0.028</td>\n",
       "      <td>0.00%</td>\n",
       "      <td>366.70%</td>\n",
       "      <td>308.0</td>\n",
       "      <td>1.9</td>\n",
       "      <td>NaN</td>\n",
       "      <td>NaN</td>\n",
       "    </tr>\n",
       "  </tbody>\n",
       "</table>\n",
       "</div>"
      ],
      "text/plain": [
       "       Country    1990    2005     2017 2017(% of world)  \\\n",
       "3  Afghanistan   2.546   1.063   11.422            0.03%   \n",
       "4      Albania   6.583   4.196    5.026            0.01%   \n",
       "5      Algeria  65.677  98.197  159.929            0.43%   \n",
       "6       Angola   5.851  15.975   30.876            0.08%   \n",
       "7     Anguilla   0.006   0.014    0.028            0.00%   \n",
       "\n",
       "  2017 vs 1990: change (%)  Per land area(t CO2/km2/yr)  \\\n",
       "3                  348.60%                         18.0   \n",
       "4                  -23.70%                        175.0   \n",
       "5                  143.50%                         67.0   \n",
       "6                  427.70%                         25.0   \n",
       "7                  366.70%                        308.0   \n",
       "\n",
       "   Per capita(t CO2/cap/yr) Total including LUCF Total excluding LUCF  \n",
       "3                       0.3                 7.59                 7.44  \n",
       "4                       1.7                 5.32                 5.56  \n",
       "5                       3.9               151.87               151.67  \n",
       "6                       1.0                62.93                27.34  \n",
       "7                       1.9                  NaN                  NaN  "
      ]
     },
     "execution_count": 5,
     "metadata": {},
     "output_type": "execute_result"
    }
   ],
   "source": [
    "#df_master = df_master.loc[df_master['Metric'] == 'CY OTB']\n",
    "df_master.head()"
   ]
  },
  {
   "cell_type": "code",
   "execution_count": 6,
   "id": "15f349d1",
   "metadata": {
    "id": "15f349d1",
    "outputId": "d5e6bed3-0d1b-4a04-af2b-84813bd5c973"
   },
   "outputs": [
    {
     "name": "stdout",
     "output_type": "stream",
     "text": [
      "Outliers: [10877.218, 3548.345, 5107.393]\n"
     ]
    }
   ],
   "source": [
    "# Selecting the outliers who has a Z score greater than 3\n",
    "outlier_list=[]\n",
    "out=[]\n",
    "def Zscore_outlier(df):\n",
    "    m = np.mean(df)\n",
    "    sd = np.std(df)\n",
    "    for i in df: \n",
    "        z = (i-m)/sd\n",
    "        if np.abs(z) > 3: \n",
    "            out.append(i)\n",
    "    print(\"Outliers:\",out)\n",
    "Zscore_outlier(df_master['2017'])"
   ]
  },
  {
   "cell_type": "code",
   "execution_count": 7,
   "id": "89a3c571",
   "metadata": {
    "id": "89a3c571",
    "scrolled": true
   },
   "outputs": [],
   "source": [
    "df_outliers = pd.DataFrame()\n",
    "for outlier in out:\n",
    "    df_outliers=pd.concat([df_outliers, df_master[['Country', '2017']].loc[df_master['2017'] == outlier]])    "
   ]
  },
  {
   "cell_type": "code",
   "execution_count": 8,
   "id": "f532d725",
   "metadata": {
    "id": "f532d725",
    "outputId": "eb2356a3-017e-4296-bba3-bcea2177b286",
    "scrolled": true
   },
   "outputs": [
    {
     "name": "stdout",
     "output_type": "stream",
     "text": [
      "            Country       2017\n",
      "42            China  10877.218\n",
      "67   European Union   3548.345\n",
      "202   United States   5107.393\n"
     ]
    }
   ],
   "source": [
    "print(df_outliers)"
   ]
  },
  {
   "cell_type": "markdown",
   "id": "71ceb01f",
   "metadata": {
    "id": "71ceb01f"
   },
   "source": [
    " ## 2. IQR METHOD"
   ]
  },
  {
   "cell_type": "code",
   "execution_count": 9,
   "id": "82de885c",
   "metadata": {
    "id": "82de885c",
    "outputId": "0def29a4-d9b1-4e17-a8eb-ea0b59271cef"
   },
   "outputs": [
    {
     "name": "stdout",
     "output_type": "stream",
     "text": [
      "Outliers: [159.929, 209.968, 402.253, 492.791, 617.301, 10877.218, 258.668, 3548.345, 338.193, 796.529, 2454.774, 511.327, 671.45, 199.296, 361.176, 1320.776, 266.207, 258.783, 507.183, 174.77, 197.297, 319.028, 1764.866, 638.762, 467.654, 673.324, 282.364, 279.74, 279.296, 429.563, 205.723, 202.802, 379.15, 5107.393, 218.729]\n"
     ]
    }
   ],
   "source": [
    "out=[]\n",
    "def iqr_outliers(df):\n",
    "    q1 = df.quantile(0.25)\n",
    "    q3 = df.quantile(0.75)\n",
    "    iqr = q3-q1\n",
    "    Lower_tail = q1 - 1.5 * iqr\n",
    "    Upper_tail = q3 + 1.5 * iqr\n",
    "    for i in df:\n",
    "        if i > Upper_tail or i < Lower_tail:\n",
    "            out.append(i)\n",
    "    print(\"Outliers:\",out)\n",
    "iqr_outliers(df_master['2017'])"
   ]
  },
  {
   "cell_type": "code",
   "execution_count": 10,
   "id": "44fd8cee",
   "metadata": {},
   "outputs": [],
   "source": [
    "df_outliers = pd.DataFrame()\n",
    "for outlier in out:\n",
    "    df_outliers=pd.concat([df_outliers, df_master[['Country', '2017']].loc[df_master['2017'] == outlier]])    "
   ]
  },
  {
   "cell_type": "code",
   "execution_count": 11,
   "id": "d17ecf53",
   "metadata": {},
   "outputs": [
    {
     "name": "stdout",
     "output_type": "stream",
     "text": [
      "                           Country       2017\n",
      "5                          Algeria    159.929\n",
      "9                        Argentina    209.968\n",
      "12                       Australia    402.253\n",
      "28                          Brazil    492.791\n",
      "36                          Canada    617.301\n",
      "42                           China  10877.218\n",
      "60                           Egypt    258.668\n",
      "67                  European Union   3548.345\n",
      "72                   France Monaco    338.193\n",
      "77                         Germany    796.529\n",
      "93                           India   2454.774\n",
      "94                       Indonesia    511.327\n",
      "95                            Iran    671.450\n",
      "96                            Iraq    199.296\n",
      "99   Italy San Marino Vatican City    361.176\n",
      "102                          Japan   1320.776\n",
      "104                     Kazakhstan    266.207\n",
      "120                       Malaysia    258.783\n",
      "127                         Mexico    507.183\n",
      "135                    Netherlands    174.770\n",
      "145                       Pakistan    197.297\n",
      "152                         Poland    319.028\n",
      "158                         Russia   1764.866\n",
      "167                   Saudi Arabia    638.762\n",
      "177                   South Africa    467.654\n",
      "178                    South Korea    673.324\n",
      "179                  Spain Andorra    282.364\n",
      "186                         Taiwan    279.740\n",
      "189                       Thailand    279.296\n",
      "195                         Turkey    429.563\n",
      "199                        Ukraine    205.723\n",
      "200           United Arab Emirates    202.802\n",
      "201                 United Kingdom    379.150\n",
      "202                  United States   5107.393\n",
      "207                        Vietnam    218.729\n"
     ]
    }
   ],
   "source": [
    "print(df_outliers)"
   ]
  },
  {
   "cell_type": "markdown",
   "id": "6e836218",
   "metadata": {
    "id": "6e836218"
   },
   "source": [
    "## 3. VISUALIZING THE DATA"
   ]
  },
  {
   "cell_type": "markdown",
   "id": "d970cdd5",
   "metadata": {
    "id": "d970cdd5"
   },
   "source": [
    "1. Box and whisker plot (box plot).\n",
    "2. Scatter plot.\n",
    "3. Histogram.\n",
    "4. Distribution Plot.\n",
    "5. QQ plot."
   ]
  },
  {
   "cell_type": "code",
   "execution_count": 12,
   "id": "4e843a2d",
   "metadata": {
    "id": "4e843a2d",
    "outputId": "3d9689e5-ea8f-4182-f6fc-4e9abe8de887"
   },
   "outputs": [
    {
     "data": {
      "image/png": "[encoded data removed]",
      "text/plain": [
       "<Figure size 720x288 with 1 Axes>"
      ]
     },
     "metadata": {
      "needs_background": "light"
     },
     "output_type": "display_data"
    },
    {
     "data": {
      "image/png": "[encoded data removed]",
      "text/plain": [
       "<Figure size 720x288 with 1 Axes>"
      ]
     },
     "metadata": {
      "needs_background": "light"
     },
     "output_type": "display_data"
    },
    {
     "data": {
      "image/png": "[encoded data removed]",
      "text/plain": [
       "<Figure size 720x288 with 1 Axes>"
      ]
     },
     "metadata": {
      "needs_background": "light"
     },
     "output_type": "display_data"
    },
    {
     "data": {
      "text/plain": [
       "<Figure size 720x288 with 0 Axes>"
      ]
     },
     "metadata": {},
     "output_type": "display_data"
    },
    {
     "data": {
      "image/png": "[encoded data removed]",
      "text/plain": [
       "<Figure size 360x360 with 1 Axes>"
      ]
     },
     "metadata": {
      "needs_background": "light"
     },
     "output_type": "display_data"
    },
    {
     "data": {
      "text/plain": [
       "<Figure size 720x288 with 0 Axes>"
      ]
     },
     "metadata": {},
     "output_type": "display_data"
    },
    {
     "data": {
      "image/png": "[encoded data removed]",
      "text/plain": [
       "<Figure size 432x288 with 1 Axes>"
      ]
     },
     "metadata": {
      "needs_background": "light"
     },
     "output_type": "display_data"
    }
   ],
   "source": [
    "import pandas as pd\n",
    "import seaborn as sns\n",
    "from matplotlib import pyplot as plt\n",
    "from statsmodels.graphics.gofplots import qqplot\n",
    "\n",
    "def Box_plots(df):\n",
    "    plt.figure(figsize=(10, 4))\n",
    "    plt.title(\"Box Plot\")\n",
    "    sns.boxplot(x=df)\n",
    "    plt.show()\n",
    "Box_plots(df_master['2017'])\n",
    "\n",
    "def hist_plots(df):\n",
    "    plt.figure(figsize=(10, 4))\n",
    "    plt.hist(df)\n",
    "    plt.title(\"Histogram Plot\")\n",
    "    plt.show()\n",
    "hist_plots(df_master['2017'])\n",
    "\n",
    "def scatter_plots(df1,df2):\n",
    "    fig, ax = plt.subplots(figsize=(10,4))\n",
    "    ax.scatter(df1,df2)\n",
    "    ax.set_xlabel('Carbon Emmision')\n",
    "    ax.set_ylabel('Carbon Emmission')\n",
    "    plt.title(\"Scatter Plot\")\n",
    "    plt.show()\n",
    "scatter_plots(df_master['2017'],df_master['2005'])\n",
    "\n",
    "def displot_plots(df):\n",
    "    plt.figure(figsize=(10, 4))\n",
    "    sns.displot(x=df)\n",
    "    plt.title(\"Distribution plot\")\n",
    "    sns.despine()\n",
    "    plt.show()\n",
    "displot_plots(df_master['2017'])\n",
    "\n",
    "def qq_plots(df):\n",
    "    plt.figure(figsize=(10, 4))\n",
    "    qqplot(df,line='s')\n",
    "    plt.title(\"Normal QQPlot\")\n",
    "    plt.show()\n",
    "qq_plots(df_master['2017'])"
   ]
  }
 ],
 "metadata": {
  "colab": {
   "provenance": []
  },
  "kernelspec": {
   "display_name": "Python 3",
   "language": "python",
   "name": "python3"
  },
  "language_info": {
   "codemirror_mode": {
    "name": "ipython",
    "version": 3
   },
   "file_extension": ".py",
   "mimetype": "text/x-python",
   "name": "python",
   "nbconvert_exporter": "python",
   "pygments_lexer": "ipython3",
   "version": "3.8.8"
  }
 },
 "nbformat": 4,
 "nbformat_minor": 5
}
